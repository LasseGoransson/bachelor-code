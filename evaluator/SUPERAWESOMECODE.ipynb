{
 "cells": [
  {
   "cell_type": "code",
   "execution_count": 52,
   "metadata": {},
   "outputs": [],
   "source": [
    "from __future__ import absolute_import, division, print_function, unicode_literals\n",
    "import IPython.display as display\n",
    "from PIL import Image\n",
    "import numpy as np\n",
    "import pandas\n",
    "import matplotlib.pyplot as plt\n",
    "import os\n",
    "import pathlib\n",
    "import datetime\n",
    "import math\n",
    "import sys"
   ]
  },
  {
   "cell_type": "code",
   "execution_count": 53,
   "metadata": {},
   "outputs": [
    {
     "name": "stdout",
     "output_type": "stream",
     "text": [
      "['/home/lasg/bachelor-code/evaluator/lossC.csv', '/home/lasg/bachelor-code/evaluator/loss.csv', '/home/lasg/bachelor-code/evaluator/vallossC.csv', '/home/lasg/bachelor-code/evaluator/valloss.csv']\n"
     ]
    }
   ],
   "source": [
    "files = !find ~/bachelor-code/evaluator/*.csv\n",
    "print(files)\n",
    "\n",
    "valloss = open(files[2])\n",
    "loss = open(files[0])\n",
    "\n",
    "loss =loss.read()\n",
    "loss = loss.splitlines()\n",
    "loss = [float(i) for i in loss]\n",
    "\n",
    "valloss =valloss.read()\n",
    "valloss = valloss.splitlines()\n",
    "valloss = [float(i) for i in valloss]"
   ]
  },
  {
   "cell_type": "code",
   "execution_count": 51,
   "metadata": {},
   "outputs": [
    {
     "data": {
      "text/plain": [
       "<matplotlib.legend.Legend at 0x7f85884e5cf8>"
      ]
     },
     "execution_count": 51,
     "metadata": {},
     "output_type": "execute_result"
    },
    {
     "data": {
      "image/png": "[encoded data removed]",
      "text/plain": [
       "<Figure size 1022.4x536.4 with 1 Axes>"
      ]
     },
     "metadata": {
      "needs_background": "light"
     },
     "output_type": "display_data"
    }
   ],
   "source": [
    "plt.rcParams['figure.figsize'] = [14.2,7.45] \n",
    "plt.plot(range(len(loss)),loss)\n",
    "plt.plot(range(len(loss)),valloss[-29:])\n",
    "plt.legend(['Loss','Val Loss'])"
   ]
  },
  {
   "cell_type": "code",
   "execution_count": null,
   "metadata": {},
   "outputs": [],
   "source": [
    "list = !cat log.log | cut -d, -f4\n",
    "list= list[1:]\n"
   ]
  },
  {
   "cell_type": "markdown",
   "metadata": {},
   "source": [
    "#Fit kode"
   ]
  },
  {
   "cell_type": "code",
   "execution_count": null,
   "metadata": {},
   "outputs": [],
   "source": [
    "from __future__ import absolute_import, division, print_function, unicode_literals\n",
    "import neptune\n",
    "import tensorflow as tf\n",
    "import tensorflow.keras as keras\n",
    "from tensorflow.keras.callbacks import Callback\n",
    "from tensorflow.keras.models import Sequential\n",
    "from tensorflow.keras import regularizers\n",
    "from tensorflow.keras.layers import Dense, Conv2D, Flatten, Dropout, MaxPooling2D,GlobalAveragePooling2D, Concatenate, Reshape,GlobalMaxPooling2D, Activation, Input\n",
    "from tensorflow.keras.preprocessing.image import ImageDataGenerator\n",
    "from tensorflow.keras.datasets import cifar10\n",
    "from classification_models.tfkeras import Classifiers\n",
    "from PIL import Image\n",
    "import numpy as np\n",
    "import pandas\n",
    "import os\n",
    "import pathlib\n",
    "import datetime\n",
    "import math\n",
    "import sys\n",
    "\n",
    "learning_rate = 0.001\n",
    "image_height =32\n",
    "image_width = 32\n",
    "batch_size = 128\n",
    "numEpochs = 500\n",
    "num_classes = 10\n",
    "# The data, split between train and test sets:\n",
    "(x_train, y_train), (x_test, y_test) = cifar10.load_data()\n",
    "print('x_train shape:', x_train.shape)\n",
    "print(x_train.shape[0], 'train samples')\n",
    "print(x_test.shape[0], 'test samples')\n",
    "\n",
    "# Convert class vectors to binary class matrices.\n",
    "y_train = keras.utils.to_categorical(y_train, num_classes)\n",
    "y_test = keras.utils.to_categorical(y_test, num_classes)\n",
    "\n",
    "x_train = x_train.astype('float32')\n",
    "x_test = x_test.astype('float32')\n",
    "x_train /= 255\n",
    "x_test /= 255\n",
    "\n",
    "\n",
    "# Model\n",
    "ResNet18, preprocess_input = Classifiers.get('resnet18')\n",
    "RESNET = ResNet18(include_top=False, weights='imagenet', input_shape=(image_height,image_width,3))\n",
    "model = tf.keras.Sequential()\n",
    "\n",
    "model.add(RESNET)\n",
    "model.add(GlobalAveragePooling2D())\n",
    "model.add(Dense(512,Activation(\"sigmoid\"),kernel_regularizer=regularizers.l2(0.0001)))\n",
    "model.add(Dense(256,Activation(\"sigmoid\"),kernel_regularizer=regularizers.l2(0.0001)))\n",
    "model.add(Dense(128,Activation(\"sigmoid\"),kernel_regularizer=regularizers.l2(0.0001)))\n",
    "model.add(Dense(10,Activation('softmax')))\n",
    "\n",
    "\n",
    "optimize = keras.optimizers.Adam(learning_rate=learning_rate)\n",
    "model.compile(loss='categorical_crossentropy',\n",
    "              optimizer=optimize,\n",
    "              metrics=['accuracy'])\n",
    "\n",
    "\n",
    "RLR = keras.callbacks.ReduceLROnPlateau(monitor='val_loss', factor=0.5, patience=2 , verbose=1, mode='min', min_delta=0.0001, cooldown=0)\n",
    "earlyStop = keras.callbacks.EarlyStopping(monitor='val_loss', mode='min', patience    =10,restore_best_weights=True,verbose=1)\n",
    "\n",
    "\n",
    "\n",
    "csv = keras.callbacks.CSVLogger('log.log', separator=',', append=False)\n",
    "\n",
    "model.fit(x_train, y_train,\n",
    "              batch_size=batch_size,\n",
    "              epochs=numEpochs,\n",
    "              validation_data=(x_test, y_test),\n",
    "              callbacks=[csv,RLR,earlyStop],\n",
    "              shuffle=True)\n",
    "\n",
    "\n"
   ]
  }
 ],
 "metadata": {
  "kernelspec": {
   "display_name": "Python 3",
   "language": "python",
   "name": "python3"
  },
  "language_info": {
   "codemirror_mode": {
    "name": "ipython",
    "version": 3
   },
   "file_extension": ".py",
   "mimetype": "text/x-python",
   "name": "python",
   "nbconvert_exporter": "python",
   "pygments_lexer": "ipython3",
   "version": "3.6.10"
  }
 },
 "nbformat": 4,
 "nbformat_minor": 4
}
