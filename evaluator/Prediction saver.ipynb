{
 "cells": [
  {
   "cell_type": "code",
   "execution_count": 1,
   "metadata": {
    "colab": {
     "base_uri": "https://localhost:8080/",
     "height": 34
    },
    "colab_type": "code",
    "id": "hWd-ciBPEyHS",
    "outputId": "20a8602b-838d-4b8b-da06-8e151757190b"
   },
   "outputs": [],
   "source": [
    "from __future__ import absolute_import, division, print_function, unicode_literals\n",
    "import os\n",
    "import tensorflow as tf\n",
    "import tensorflow.keras as keras\n",
    "from tensorflow.keras.models import Sequential\n",
    "from tensorflow.keras.layers import Dense, Conv2D, Flatten, Dropout, MaxPooling2D,GlobalAveragePooling2D, Concatenate, Reshape,GlobalMaxPooling2D, Activation, Input\n",
    "from tensorflow.keras.preprocessing.image import ImageDataGenerator\n",
    "\n",
    "import IPython.display as display\n",
    "from PIL import Image\n",
    "import numpy as np\n",
    "import pandas\n",
    "import matplotlib.pyplot as plt\n",
    "import pathlib\n",
    "import datetime\n",
    "import math\n",
    "import sys\n",
    "import neptune\n",
    "# GPU setup\n",
    "gpus = tf.config.experimental.list_physical_devices('GPU')\n",
    "tf.config.experimental.set_memory_growth(gpus[0], True) \n"
   ]
  },
  {
   "cell_type": "markdown",
   "metadata": {},
   "source": [
    "xrayPredictor\n",
    "xrayPredictor-448x448\n",
    "xrayPredictor-custom"
   ]
  },
  {
   "cell_type": "code",
   "execution_count": 4,
   "metadata": {},
   "outputs": [
    {
     "name": "stderr",
     "output_type": "stream",
     "text": [
      "WARNING: It is not secure to place API token in your source code. You should treat it as a password to your account. It is strongly recommended to use NEPTUNE_API_TOKEN environment variable instead. Remember not to upload source file with API token to any public repository.\n"
     ]
    }
   ],
   "source": [
    "project = 'lassegoransson/xrayPredictor'\n",
    "import neptune\n",
    "key = \"eyJhcGlfYWRkcmVzcyI6Imh0dHBzOi8vdWkubmVwdHVuZS5haSIsImFwaV91cmwiOiJodHRwczovL3VpLm5lcHR1bmUuYWkiLCJhcGlfa2V5IjoiOWUxN2YwMTUtNjM1Ny00NmVlLWIzOTctNzAwYTllMGNmMTg2In0=\"\n",
    "project = neptune.init(project,api_token=key)"
   ]
  },
  {
   "cell_type": "code",
   "execution_count": 16,
   "metadata": {},
   "outputs": [],
   "source": [
    "name = \"XRAY-49\"\n",
    "modelname = \"/home/lasg/bachelor-data/models/\"+name+\".hdf5\"\n",
    "model = tf.keras.models.load_model(modelname, custom_objects={'Activation': tf.keras.layers.Activation})"
   ]
  },
  {
   "cell_type": "code",
   "execution_count": 10,
   "metadata": {
    "colab": {
     "base_uri": "https://localhost:8080/",
     "height": 34
    },
    "colab_type": "code",
    "id": "EDqUhHosFlqe",
    "outputId": "528f8e92-ff10-490d-b071-579dc9eae886"
   },
   "outputs": [
    {
     "name": "stdout",
     "output_type": "stream",
     "text": [
      "Found 806 validated image filenames.\n"
     ]
    }
   ],
   "source": [
    "test_df = pandas.read_csv(\"/home/lasg/bachelor-data/allTest.csv\")\n",
    "test_datagen = ImageDataGenerator(\n",
    "        rescale=1./255,\n",
    "        )\n",
    "\n",
    "shape = model.input_shape\n",
    "height = 224\n",
    "width = 224\n",
    "imgdir = \"/home/lasg/bachelor-data/data_448x448/\"\n",
    "\n",
    "\n",
    "if model.input_shape[3] == 1:\n",
    "    \n",
    "    test_generator = test_datagen.flow_from_dataframe(\n",
    "            dataframe=test_df,\n",
    "            directory=imgdir,\n",
    "            x_col=\"filename\",\n",
    "            y_col='label',\n",
    "            target_size=(height, width),\n",
    "            batch_size=1,\n",
    "            shuffle=False,\n",
    "            class_mode=\"raw\",\n",
    "            color_mode=\"grayscale\"\n",
    "            #color_mode=\"rgb\"\n",
    "            )\n",
    "else: \n",
    "        test_generator = test_datagen.flow_from_dataframe(\n",
    "            dataframe=test_df,\n",
    "            directory=imgdir,\n",
    "            x_col=\"filename\",\n",
    "            y_col='label',\n",
    "            target_size=(height, width),\n",
    "            batch_size=1,\n",
    "            shuffle=False,\n",
    "            class_mode=\"raw\",\n",
    "            #color_mode=\"grayscale\"\n",
    "            color_mode=\"rgb\"\n",
    "            )\n",
    "        "
   ]
  },
  {
   "cell_type": "markdown",
   "metadata": {
    "colab_type": "text",
    "id": "UnDLU9gjD5gD"
   },
   "source": [
    "# Evaluate\n",
    "\n",
    "\n"
   ]
  },
  {
   "cell_type": "code",
   "execution_count": 17,
   "metadata": {},
   "outputs": [
    {
     "name": "stdout",
     "output_type": "stream",
     "text": [
      "99.8759305210918266"
     ]
    },
    {
     "data": {
      "text/html": [
       "<div>\n",
       "<style scoped>\n",
       "    .dataframe tbody tr th:only-of-type {\n",
       "        vertical-align: middle;\n",
       "    }\n",
       "\n",
       "    .dataframe tbody tr th {\n",
       "        vertical-align: top;\n",
       "    }\n",
       "\n",
       "    .dataframe thead th {\n",
       "        text-align: right;\n",
       "    }\n",
       "</style>\n",
       "<table border=\"1\" class=\"dataframe\">\n",
       "  <thead>\n",
       "    <tr style=\"text-align: right;\">\n",
       "      <th></th>\n",
       "      <th>pdiviate</th>\n",
       "      <th>label</th>\n",
       "      <th>predicts</th>\n",
       "    </tr>\n",
       "  </thead>\n",
       "  <tbody>\n",
       "    <tr>\n",
       "      <th>0</th>\n",
       "      <td>-0.231659</td>\n",
       "      <td>0.754</td>\n",
       "      <td>0.612182</td>\n",
       "    </tr>\n",
       "    <tr>\n",
       "      <th>1</th>\n",
       "      <td>-0.240748</td>\n",
       "      <td>0.990</td>\n",
       "      <td>0.797906</td>\n",
       "    </tr>\n",
       "    <tr>\n",
       "      <th>2</th>\n",
       "      <td>-0.236878</td>\n",
       "      <td>0.754</td>\n",
       "      <td>0.609599</td>\n",
       "    </tr>\n",
       "    <tr>\n",
       "      <th>3</th>\n",
       "      <td>-0.291864</td>\n",
       "      <td>0.303</td>\n",
       "      <td>0.234545</td>\n",
       "    </tr>\n",
       "    <tr>\n",
       "      <th>4</th>\n",
       "      <td>-0.220551</td>\n",
       "      <td>0.890</td>\n",
       "      <td>0.729179</td>\n",
       "    </tr>\n",
       "    <tr>\n",
       "      <th>...</th>\n",
       "      <td>...</td>\n",
       "      <td>...</td>\n",
       "      <td>...</td>\n",
       "    </tr>\n",
       "    <tr>\n",
       "      <th>801</th>\n",
       "      <td>-0.246418</td>\n",
       "      <td>0.990</td>\n",
       "      <td>0.794276</td>\n",
       "    </tr>\n",
       "    <tr>\n",
       "      <th>802</th>\n",
       "      <td>-0.751945</td>\n",
       "      <td>0.227</td>\n",
       "      <td>0.129570</td>\n",
       "    </tr>\n",
       "    <tr>\n",
       "      <th>803</th>\n",
       "      <td>-0.220754</td>\n",
       "      <td>0.598</td>\n",
       "      <td>0.489861</td>\n",
       "    </tr>\n",
       "    <tr>\n",
       "      <th>804</th>\n",
       "      <td>-0.025008</td>\n",
       "      <td>0.754</td>\n",
       "      <td>0.735604</td>\n",
       "    </tr>\n",
       "    <tr>\n",
       "      <th>805</th>\n",
       "      <td>-0.173357</td>\n",
       "      <td>0.754</td>\n",
       "      <td>0.642601</td>\n",
       "    </tr>\n",
       "  </tbody>\n",
       "</table>\n",
       "<p>806 rows × 3 columns</p>\n",
       "</div>"
      ],
      "text/plain": [
       "     pdiviate  label  predicts\n",
       "0   -0.231659  0.754  0.612182\n",
       "1   -0.240748  0.990  0.797906\n",
       "2   -0.236878  0.754  0.609599\n",
       "3   -0.291864  0.303  0.234545\n",
       "4   -0.220551  0.890  0.729179\n",
       "..        ...    ...       ...\n",
       "801 -0.246418  0.990  0.794276\n",
       "802 -0.751945  0.227  0.129570\n",
       "803 -0.220754  0.598  0.489861\n",
       "804 -0.025008  0.754  0.735604\n",
       "805 -0.173357  0.754  0.642601\n",
       "\n",
       "[806 rows x 3 columns]"
      ]
     },
     "execution_count": 17,
     "metadata": {},
     "output_type": "execute_result"
    }
   ],
   "source": [
    "labels = []\n",
    "predicts = []\n",
    "n = []\n",
    "i=0\n",
    "for b in range(0,test_generator.n):\n",
    "  img,y= test_generator.next()\n",
    "  img=img[0]\n",
    "  sys.stdout.write(\"\\r\" + str(100*i/test_generator.n))\n",
    "  label = y[0]\n",
    "  predict = model.predict(np.expand_dims(img, axis=0))[0][0]\n",
    "  predicts.append(predict)\n",
    "  labels.append(label)\n",
    "  val =(1-(label/predict))\n",
    "  n.append(val)\n",
    "  i+=1\n",
    "\n",
    "df = pandas.DataFrame(data={\"pdiviate\": n, \"label\" : labels, \"predicts\": predicts})\n",
    "df.to_csv(\"/home/lasg/bachelor-data/models/predictions/\"+name+\".csv\", sep=',',index=False)\n",
    "\n",
    "df\n",
    "  "
   ]
  },
  {
   "cell_type": "markdown",
   "metadata": {},
   "source": [
    "# Model Architecture"
   ]
  },
  {
   "cell_type": "code",
   "execution_count": 9,
   "metadata": {},
   "outputs": [
    {
     "data": {
      "text/plain": [
       "'model_resnet_aspect_baseline_3layer_l2reg.py_checkpoint-515x320-016-0.0029903836548328.hdf5'"
      ]
     },
     "execution_count": 9,
     "metadata": {},
     "output_type": "execute_result"
    }
   ],
   "source": [
    "modelname.split(\"/\")[1]"
   ]
  },
  {
   "cell_type": "code",
   "execution_count": 10,
   "metadata": {},
   "outputs": [
    {
     "name": "stdout",
     "output_type": "stream",
     "text": [
      "Failed to import pydot. You must install pydot and graphviz for `pydotprint` to work.\n"
     ]
    }
   ],
   "source": [
    "tf.keras.utils.plot_model(model, show_shapes=True)"
   ]
  },
  {
   "cell_type": "markdown",
   "metadata": {},
   "source": [
    "# SCORE"
   ]
  },
  {
   "cell_type": "code",
   "execution_count": 11,
   "metadata": {
    "colab": {
     "base_uri": "https://localhost:8080/",
     "height": 769
    },
    "colab_type": "code",
    "id": "alp2Sx9uDv5E",
    "outputId": "6e7e4df2-0f3f-44a0-c1b3-3781c04c53a7",
    "scrolled": false
   },
   "outputs": [
    {
     "name": "stdout",
     "output_type": "stream",
     "text": [
      "\n",
      "MSE: 0.002990381483630136\n",
      "\n",
      "Deviation from true weight (< 5% = 90 is project goal)\n",
      "< 5.0% = 53.225806451612904%\n",
      "< 10.0% = 84.61538461538461%\n",
      "< 15.0% = 95.16129032258064%\n",
      "< 20.0% = 98.75930521091811%\n",
      "< 25.0% = 99.75186104218362%\n",
      "< 30.0% = 99.87593052109182%\n",
      "\n",
      "Deviation summed over full batch\n",
      "Predicted weight: 521.4762737900019 True weight: 534.0040000000014 Percentage: 97.65400142882834\n"
     ]
    }
   ],
   "source": [
    "print(\"\")\n",
    "print(\"MSE: \"+str(mse))\n",
    "print(\"\")\n",
    "print(\"Deviation from true weight (< 5% = 90 is project goal)\")\n",
    "print(\"< 5.0% = \" +  str(100*hits[0]/(test_generator.n))+ \"%\")\n",
    "print(\"< 10.0% = \" + str(100*hits[1]/(test_generator.n))+ \"%\")\n",
    "print(\"< 15.0% = \" + str(100*hits[2]/(test_generator.n))+ \"%\")\n",
    "print(\"< 20.0% = \" + str(100*hits[3]/(test_generator.n))+ \"%\")\n",
    "print(\"< 25.0% = \" + str(100*hits[4]/(test_generator.n))+ \"%\")\n",
    "print(\"< 30.0% = \" + str(100*hits[5]/(test_generator.n))+ \"%\")\n",
    "print(\"\")\n",
    "print(\"Deviation summed over full batch\")\n",
    "print(\"Predicted weight: \"+str(labelval)+\" True weight: \"+str(labeltrueVal)+\" Percentage: \"+str((labelval/labeltrueVal)*100))"
   ]
  },
  {
   "cell_type": "code",
   "execution_count": 12,
   "metadata": {},
   "outputs": [],
   "source": [
    "ex.log_metric(\"5%_score\",100*hits[0]/(test_generator.n))\n",
    "ex.log_metric(\"10%_score\",100*hits[1]/(test_generator.n))\n",
    "ex.log_metric(\"15%_score\",100*hits[2]/(test_generator.n))\n",
    "ex.log_metric(\"20%_score\",100*hits[3]/(test_generator.n))\n",
    "ex.log_metric(\"25%_score\",100*hits[4]/(test_generator.n))\n",
    "ex.log_metric(\"30%_score\",100*hits[5]/(test_generator.n))"
   ]
  },
  {
   "cell_type": "markdown",
   "metadata": {},
   "source": [
    "# Residuals"
   ]
  },
  {
   "cell_type": "code",
   "execution_count": null,
   "metadata": {},
   "outputs": [],
   "source": [
    "plt.figure(figsize=(20,10))\n",
    "plt.stem(range(0,len(n)),nnon,use_line_collection=True)\n",
    "plt.title('Model accuracy')\n",
    "plt.ylabel('Accuracy (%)')\n",
    "plt.xlabel('N of test')\n",
    "plt.show()"
   ]
  }
 ],
 "metadata": {
  "accelerator": "GPU",
  "colab": {
   "collapsed_sections": [],
   "name": "ModelEvaluater.ipynb",
   "provenance": [],
   "toc_visible": true
  },
  "kernelspec": {
   "display_name": "Python 3",
   "language": "python",
   "name": "python3"
  },
  "language_info": {
   "codemirror_mode": {
    "name": "ipython",
    "version": 3
   },
   "file_extension": ".py",
   "mimetype": "text/x-python",
   "name": "python",
   "nbconvert_exporter": "python",
   "pygments_lexer": "ipython3",
   "version": "3.6.10"
  }
 },
 "nbformat": 4,
 "nbformat_minor": 1
}
