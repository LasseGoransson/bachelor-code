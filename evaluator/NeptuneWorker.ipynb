{
 "cells": [
  {
   "cell_type": "code",
   "execution_count": 2,
   "metadata": {},
   "outputs": [
    {
     "name": "stderr",
     "output_type": "stream",
     "text": [
      "WARNING: It is not secure to place API token in your source code. You should treat it as a password to your account. It is strongly recommended to use NEPTUNE_API_TOKEN environment variable instead. Remember not to upload source file with API token to any public repository.\n"
     ]
    },
    {
     "data": {
      "text/plain": [
       "[Experiment(XRAY-44),\n",
       " Experiment(XRAY-46),\n",
       " Experiment(XRAY-48),\n",
       " Experiment(XRAY-49),\n",
       " Experiment(XRAY-50),\n",
       " Experiment(XRAY-51),\n",
       " Experiment(XRAY-52),\n",
       " Experiment(XRAY-53),\n",
       " Experiment(XRAY-55),\n",
       " Experiment(XRAY-56),\n",
       " Experiment(XRAY-69),\n",
       " Experiment(XRAY-74),\n",
       " Experiment(XRAY-79),\n",
       " Experiment(XRAY-81),\n",
       " Experiment(XRAY-88),\n",
       " Experiment(XRAY-91),\n",
       " Experiment(XRAY-94),\n",
       " Experiment(XRAY-95),\n",
       " Experiment(XRAY-96),\n",
       " Experiment(XRAY-97),\n",
       " Experiment(XRAY-98),\n",
       " Experiment(XRAY-100)]"
      ]
     },
     "execution_count": 2,
     "metadata": {},
     "output_type": "execute_result"
    }
   ],
   "source": [
    "import neptune\n",
    "key = \"eyJhcGlfYWRkcmVzcyI6Imh0dHBzOi8vdWkubmVwdHVuZS5haSIsImFwaV91cmwiOiJodHRwczovL3VpLm5lcHR1bmUuYWkiLCJhcGlfa2V5IjoiOWUxN2YwMTUtNjM1Ny00NmVlLWIzOTctNzAwYTllMGNmMTg2In0=\"\n",
    "project = neptune.init('lassegoransson/xrayPredictor',api_token=key)\n",
    "exp = project.get_experiments()\n",
    "exp"
   ]
  },
  {
   "cell_type": "code",
   "execution_count": 24,
   "metadata": {},
   "outputs": [
    {
     "data": {
      "text/plain": [
       "[Experiment(XRAY-44),\n",
       " Experiment(XRAY-46),\n",
       " Experiment(XRAY-48),\n",
       " Experiment(XRAY-49),\n",
       " Experiment(XRAY-50),\n",
       " Experiment(XRAY-51),\n",
       " Experiment(XRAY-52),\n",
       " Experiment(XRAY-53),\n",
       " Experiment(XRAY-55),\n",
       " Experiment(XRAY-56),\n",
       " Experiment(XRAY-69),\n",
       " Experiment(XRAY-74),\n",
       " Experiment(XRAY-79),\n",
       " Experiment(XRAY-81),\n",
       " Experiment(XRAY-88),\n",
       " Experiment(XRAY-91),\n",
       " Experiment(XRAY-94),\n",
       " Experiment(XRAY-95),\n",
       " Experiment(XRAY-96),\n",
       " Experiment(XRAY-97),\n",
       " Experiment(XRAY-98),\n",
       " Experiment(XRAY-100)]"
      ]
     },
     "execution_count": 24,
     "metadata": {},
     "output_type": "execute_result"
    }
   ],
   "source": [
    "exs = project.get_experiments()\n",
    "exs"
   ]
  },
  {
   "cell_type": "code",
   "execution_count": 15,
   "metadata": {},
   "outputs": [],
   "source": [
    "v"
   ]
  },
  {
   "cell_type": "code",
   "execution_count": 19,
   "metadata": {},
   "outputs": [],
   "source": [
    "val_loss = val_loss['val_loss']"
   ]
  },
  {
   "cell_type": "code",
   "execution_count": 21,
   "metadata": {},
   "outputs": [
    {
     "data": {
      "text/plain": [
       "0.007197424751491502"
      ]
     },
     "execution_count": 21,
     "metadata": {},
     "output_type": "execute_result"
    }
   ],
   "source": [
    "val = min(val_loss)"
   ]
  },
  {
   "cell_type": "code",
   "execution_count": null,
   "metadata": {},
   "outputs": [],
   "source": []
  },
  {
   "cell_type": "code",
   "execution_count": 29,
   "metadata": {},
   "outputs": [
    {
     "name": "stdout",
     "output_type": "stream",
     "text": [
      "0.007197424751491502\n",
      "0.006640000000000001\n",
      "0.0057399999999999994\n",
      "0.00692\n",
      "0.01369\n",
      "0.0070599999999999994\n",
      "0.007109999999999999\n",
      "0.006336015013333122\n",
      "0.00763\n",
      "0.005370000000000001\n",
      "0.069575835879\n",
      "0.0057747619799696495\n",
      "0.006879154556932358\n",
      "0.006804353790000001\n",
      "0.00784797751559661\n",
      "0.00643\n",
      "0.010736399777950002\n",
      "0.00928812967434239\n",
      "0.024478999324716054\n",
      "0.0502679098684054\n",
      "0.0578288248238655\n",
      "0.0146567943649223\n"
     ]
    }
   ],
   "source": [
    "for ex in exs:\n",
    "    val_loss = ex.get_numeric_channels_values('val_loss')\n",
    "    val_loss = val_loss['val_loss']\n",
    "    val = min(val_loss)\n",
    "    print(val)\n",
    "    ex.log_metric('score',val)"
   ]
  },
  {
   "cell_type": "code",
   "execution_count": 3,
   "metadata": {},
   "outputs": [
    {
     "name": "stdout",
     "output_type": "stream",
     "text": [
      "Archive:  output.zip\n",
      "  inflating: output/model_resnet_baseline_4layerMLP_proj_l2reg.py_checkpoint-448x448-043-0.0107776584426084.hdf5  \n"
     ]
    }
   ],
   "source": [
    "ex = project.get_experiments(\"XRAY448-5\")[0]\n",
    "ex.download_artifacts()\n",
    "!unzip output.zip"
   ]
  },
  {
   "cell_type": "code",
   "execution_count": null,
   "metadata": {},
   "outputs": [],
   "source": []
  }
 ],
 "metadata": {
  "kernelspec": {
   "display_name": "Python 3",
   "language": "python",
   "name": "python3"
  },
  "language_info": {
   "codemirror_mode": {
    "name": "ipython",
    "version": 3
   },
   "file_extension": ".py",
   "mimetype": "text/x-python",
   "name": "python",
   "nbconvert_exporter": "python",
   "pygments_lexer": "ipython3",
   "version": "3.6.10"
  }
 },
 "nbformat": 4,
 "nbformat_minor": 4
}
