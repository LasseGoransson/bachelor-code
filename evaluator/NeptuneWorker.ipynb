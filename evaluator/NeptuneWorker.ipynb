{
 "cells": [
  {
   "cell_type": "code",
   "execution_count": 20,
   "metadata": {},
   "outputs": [
    {
     "name": "stderr",
     "output_type": "stream",
     "text": [
      "WARNING: It is not secure to place API token in your source code. You should treat it as a password to your account. It is strongly recommended to use NEPTUNE_API_TOKEN environment variable instead. Remember not to upload source file with API token to any public repository.\n"
     ]
    },
    {
     "data": {
      "text/plain": [
       "[Experiment(XRAY-44),\n",
       " Experiment(XRAY-46),\n",
       " Experiment(XRAY-48),\n",
       " Experiment(XRAY-49),\n",
       " Experiment(XRAY-50),\n",
       " Experiment(XRAY-51),\n",
       " Experiment(XRAY-52),\n",
       " Experiment(XRAY-53),\n",
       " Experiment(XRAY-55),\n",
       " Experiment(XRAY-56),\n",
       " Experiment(XRAY-69),\n",
       " Experiment(XRAY-74),\n",
       " Experiment(XRAY-79),\n",
       " Experiment(XRAY-81),\n",
       " Experiment(XRAY-88),\n",
       " Experiment(XRAY-91),\n",
       " Experiment(XRAY-94),\n",
       " Experiment(XRAY-95),\n",
       " Experiment(XRAY-96),\n",
       " Experiment(XRAY-97),\n",
       " Experiment(XRAY-98),\n",
       " Experiment(XRAY-100),\n",
       " Experiment(XRAY-105),\n",
       " Experiment(XRAY-106),\n",
       " Experiment(XRAY-109),\n",
       " Experiment(XRAY-110),\n",
       " Experiment(XRAY-111),\n",
       " Experiment(XRAY-112),\n",
       " Experiment(XRAY-113),\n",
       " Experiment(XRAY-114),\n",
       " Experiment(XRAY-115),\n",
       " Experiment(XRAY-116),\n",
       " Experiment(XRAY-118),\n",
       " Experiment(XRAY-123),\n",
       " Experiment(XRAY-124),\n",
       " Experiment(XRAY-125),\n",
       " Experiment(XRAY-127),\n",
       " Experiment(XRAY-128),\n",
       " Experiment(XRAY-129),\n",
       " Experiment(XRAY-130),\n",
       " Experiment(XRAY-136),\n",
       " Experiment(XRAY-138),\n",
       " Experiment(XRAY-139),\n",
       " Experiment(XRAY-141),\n",
       " Experiment(XRAY-142),\n",
       " Experiment(XRAY-146),\n",
       " Experiment(XRAY-147),\n",
       " Experiment(XRAY-148),\n",
       " Experiment(XRAY-149),\n",
       " Experiment(XRAY-150),\n",
       " Experiment(XRAY-152),\n",
       " Experiment(XRAY-155),\n",
       " Experiment(XRAY-156),\n",
       " Experiment(XRAY-157),\n",
       " Experiment(XRAY-162),\n",
       " Experiment(XRAY-163),\n",
       " Experiment(XRAY-164),\n",
       " Experiment(XRAY-165),\n",
       " Experiment(XRAY-166),\n",
       " Experiment(XRAY-172),\n",
       " Experiment(XRAY-173),\n",
       " Experiment(XRAY-176),\n",
       " Experiment(XRAY-178),\n",
       " Experiment(XRAY-180),\n",
       " Experiment(XRAY-182)]"
      ]
     },
     "execution_count": 20,
     "metadata": {},
     "output_type": "execute_result"
    }
   ],
   "source": [
    "import neptune\n",
    "import ast\n",
    "key = \"eyJhcGlfYWRkcmVzcyI6Imh0dHBzOi8vdWkubmVwdHVuZS5haSIsImFwaV91cmwiOiJodHRwczovL3VpLm5lcHR1bmUuYWkiLCJhcGlfa2V5IjoiOWUxN2YwMTUtNjM1Ny00NmVlLWIzOTctNzAwYTllMGNmMTg2In0=\"\n",
    "project = neptune.init('lassegoransson/xrayPredictor',api_token=key)\n",
    "exp = project.get_experiments()\n",
    "exp"
   ]
  },
  {
   "cell_type": "code",
   "execution_count": 3,
   "metadata": {},
   "outputs": [
    {
     "data": {
      "text/plain": [
       "[Experiment(XRAY-44),\n",
       " Experiment(XRAY-46),\n",
       " Experiment(XRAY-48),\n",
       " Experiment(XRAY-49),\n",
       " Experiment(XRAY-50),\n",
       " Experiment(XRAY-51),\n",
       " Experiment(XRAY-52),\n",
       " Experiment(XRAY-53),\n",
       " Experiment(XRAY-55),\n",
       " Experiment(XRAY-56),\n",
       " Experiment(XRAY-69),\n",
       " Experiment(XRAY-74),\n",
       " Experiment(XRAY-79),\n",
       " Experiment(XRAY-81),\n",
       " Experiment(XRAY-88),\n",
       " Experiment(XRAY-91),\n",
       " Experiment(XRAY-94),\n",
       " Experiment(XRAY-95),\n",
       " Experiment(XRAY-96),\n",
       " Experiment(XRAY-97),\n",
       " Experiment(XRAY-98),\n",
       " Experiment(XRAY-100),\n",
       " Experiment(XRAY-105),\n",
       " Experiment(XRAY-106),\n",
       " Experiment(XRAY-109),\n",
       " Experiment(XRAY-110),\n",
       " Experiment(XRAY-111),\n",
       " Experiment(XRAY-112),\n",
       " Experiment(XRAY-113),\n",
       " Experiment(XRAY-114),\n",
       " Experiment(XRAY-115),\n",
       " Experiment(XRAY-116),\n",
       " Experiment(XRAY-118),\n",
       " Experiment(XRAY-123),\n",
       " Experiment(XRAY-124),\n",
       " Experiment(XRAY-125),\n",
       " Experiment(XRAY-127),\n",
       " Experiment(XRAY-128),\n",
       " Experiment(XRAY-129),\n",
       " Experiment(XRAY-130),\n",
       " Experiment(XRAY-136),\n",
       " Experiment(XRAY-138),\n",
       " Experiment(XRAY-139),\n",
       " Experiment(XRAY-141),\n",
       " Experiment(XRAY-142),\n",
       " Experiment(XRAY-146),\n",
       " Experiment(XRAY-147),\n",
       " Experiment(XRAY-148),\n",
       " Experiment(XRAY-149),\n",
       " Experiment(XRAY-150),\n",
       " Experiment(XRAY-152),\n",
       " Experiment(XRAY-155),\n",
       " Experiment(XRAY-156),\n",
       " Experiment(XRAY-157),\n",
       " Experiment(XRAY-162),\n",
       " Experiment(XRAY-163),\n",
       " Experiment(XRAY-164),\n",
       " Experiment(XRAY-165),\n",
       " Experiment(XRAY-166),\n",
       " Experiment(XRAY-172),\n",
       " Experiment(XRAY-173),\n",
       " Experiment(XRAY-176),\n",
       " Experiment(XRAY-178),\n",
       " Experiment(XRAY-180),\n",
       " Experiment(XRAY-182)]"
      ]
     },
     "execution_count": 3,
     "metadata": {},
     "output_type": "execute_result"
    }
   ],
   "source": [
    "exs = project.get_experiments()\n",
    "exs"
   ]
  },
  {
   "cell_type": "code",
   "execution_count": 15,
   "metadata": {},
   "outputs": [],
   "source": []
  },
  {
   "cell_type": "code",
   "execution_count": 19,
   "metadata": {},
   "outputs": [],
   "source": [
    "val_loss = val_loss['val_loss']"
   ]
  },
  {
   "cell_type": "code",
   "execution_count": 21,
   "metadata": {},
   "outputs": [
    {
     "data": {
      "text/plain": [
       "0.007197424751491502"
      ]
     },
     "execution_count": 21,
     "metadata": {},
     "output_type": "execute_result"
    }
   ],
   "source": [
    "val = min(val_loss)"
   ]
  },
  {
   "cell_type": "code",
   "execution_count": 44,
   "metadata": {},
   "outputs": [],
   "source": [
    "!echo > explist.txt\n",
    "for ex in exs:\n",
    "    try:\n",
    "        path = ast.literal_eval(ex.get_parameters()['data'])[2]['image_dir']\n",
    "    except:\n",
    "            path = ex.get_parameters()['image_dir']\n",
    "    path = path.split('/')[-2]\n",
    "\n",
    "    basepath = \"/home/lasg/bachelor-data/\"\n",
    "    if \"data_resize\" in path:\n",
    "        path = \"data_224x224\"\n",
    "    if \"data_aspect_320\" in path:\n",
    "        path = \"data_320x515\"\n",
    "    if \"data_aspect\" in path:\n",
    "        path = \"data_512x594\"\n",
    "    \n",
    "    \n",
    "    \n",
    "    path = basepath+path\n",
    "\n",
    "    !echo $ex.id,$path >> explist.txt\n",
    "    "
   ]
  },
  {
   "cell_type": "code",
   "execution_count": 31,
   "metadata": {},
   "outputs": [
    {
     "data": {
      "text/plain": [
       "'../../../bachelor-data/data_resize/'"
      ]
     },
     "execution_count": 31,
     "metadata": {},
     "output_type": "execute_result"
    }
   ],
   "source": [
    "ast.literal_eval(exs[0].get_parameters()['data'])[2]['image_dir']"
   ]
  },
  {
   "cell_type": "code",
   "execution_count": 29,
   "metadata": {},
   "outputs": [
    {
     "name": "stdout",
     "output_type": "stream",
     "text": [
      "0.007197424751491502\n",
      "0.006640000000000001\n",
      "0.0057399999999999994\n",
      "0.00692\n",
      "0.01369\n",
      "0.0070599999999999994\n",
      "0.007109999999999999\n",
      "0.006336015013333122\n",
      "0.00763\n",
      "0.005370000000000001\n",
      "0.069575835879\n",
      "0.0057747619799696495\n",
      "0.006879154556932358\n",
      "0.006804353790000001\n",
      "0.00784797751559661\n",
      "0.00643\n",
      "0.010736399777950002\n",
      "0.00928812967434239\n",
      "0.024478999324716054\n",
      "0.0502679098684054\n",
      "0.0578288248238655\n",
      "0.0146567943649223\n"
     ]
    }
   ],
   "source": [
    "for ex in exs:\n",
    "    val_loss = ex.get_numeric_channels_values('val_loss')\n",
    "    val_loss = val_loss['val_loss']\n",
    "    val = min(val_loss)\n",
    "    print(val)\n",
    "    ex.log_metric('score',val)"
   ]
  },
  {
   "cell_type": "code",
   "execution_count": 3,
   "metadata": {},
   "outputs": [
    {
     "name": "stdout",
     "output_type": "stream",
     "text": [
      "Archive:  output.zip\n",
      "  inflating: output/model_resnet_baseline_4layerMLP_proj_l2reg.py_checkpoint-448x448-043-0.0107776584426084.hdf5  \n"
     ]
    }
   ],
   "source": [
    "ex = project.get_experiments(\"XRAY448-5\")[0]\n",
    "ex.download_artifacts()\n",
    "!unzip output.zip"
   ]
  },
  {
   "cell_type": "code",
   "execution_count": null,
   "metadata": {},
   "outputs": [],
   "source": []
  }
 ],
 "metadata": {
  "kernelspec": {
   "display_name": "Python 3",
   "language": "python",
   "name": "python3"
  },
  "language_info": {
   "codemirror_mode": {
    "name": "ipython",
    "version": 3
   },
   "file_extension": ".py",
   "mimetype": "text/x-python",
   "name": "python",
   "nbconvert_exporter": "python",
   "pygments_lexer": "ipython3",
   "version": "3.6.10"
  }
 },
 "nbformat": 4,
 "nbformat_minor": 4
}
