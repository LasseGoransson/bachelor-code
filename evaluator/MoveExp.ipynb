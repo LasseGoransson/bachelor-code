{
 "cells": [
  {
   "cell_type": "code",
   "execution_count": 1,
   "metadata": {},
   "outputs": [
    {
     "name": "stderr",
     "output_type": "stream",
     "text": [
      "WARNING: It is not secure to place API token in your source code. You should treat it as a password to your account. It is strongly recommended to use NEPTUNE_API_TOKEN environment variable instead. Remember not to upload source file with API token to any public repository.\n",
      "WARNING: It is not secure to place API token in your source code. You should treat it as a password to your account. It is strongly recommended to use NEPTUNE_API_TOKEN environment variable instead. Remember not to upload source file with API token to any public repository.\n"
     ]
    }
   ],
   "source": [
    "import neptune\n",
    "import ast\n",
    "import time\n",
    "key = \"eyJhcGlfYWRkcmVzcyI6Imh0dHBzOi8vdWkubmVwdHVuZS5haSIsImFwaV91cmwiOiJodHRwczovL3VpLm5lcHR1bmUuYWkiLCJhcGlfa2V5IjoiOWUxN2YwMTUtNjM1Ny00NmVlLWIzOTctNzAwYTllMGNmMTg2In0=\"\n",
    "project_rerun = neptune.init('lassegoransson/xrayPredictor-rerun',api_token=key)\n",
    "project_custom = neptune.init('lassegoransson/xrayPredictor',api_token=key)\n",
    "exp_rerun = project_rerun.get_experiments()\n",
    "exp_custom = project_custom.get_experiments()"
   ]
  },
  {
   "cell_type": "code",
   "execution_count": 4,
   "metadata": {},
   "outputs": [],
   "source": [
    "exp_rerun = exp_rerun[-4:]"
   ]
  },
  {
   "cell_type": "code",
   "execution_count": 5,
   "metadata": {},
   "outputs": [
    {
     "data": {
      "text/plain": [
       "[Experiment(XRAYR-36),\n",
       " Experiment(XRAYR-37),\n",
       " Experiment(XRAYR-38),\n",
       " Experiment(XRAYR-39)]"
      ]
     },
     "execution_count": 5,
     "metadata": {},
     "output_type": "execute_result"
    }
   ],
   "source": [
    "exp_rerun"
   ]
  },
  {
   "cell_type": "code",
   "execution_count": 6,
   "metadata": {},
   "outputs": [
    {
     "name": "stdout",
     "output_type": "stream",
     "text": [
      "/home/lasg/bachelor-code/evaluator/copy\n"
     ]
    }
   ],
   "source": [
    "%cd copy"
   ]
  },
  {
   "cell_type": "code",
   "execution_count": 3,
   "metadata": {},
   "outputs": [
    {
     "data": {
      "text/plain": [
       "'resnet_extent_3layer.py'"
      ]
     },
     "execution_count": 3,
     "metadata": {},
     "output_type": "execute_result"
    }
   ],
   "source": [
    "ex = exp_rerun[0]\n",
    "ex.name"
   ]
  },
  {
   "cell_type": "code",
   "execution_count": 4,
   "metadata": {},
   "outputs": [
    {
     "data": {
      "text/plain": [
       "0     0.396178\n",
       "1     0.032206\n",
       "2     0.284400\n",
       "3     0.749001\n",
       "4     1.631714\n",
       "        ...   \n",
       "57    0.003699\n",
       "58    0.003631\n",
       "59    0.003942\n",
       "60    0.004036\n",
       "61    0.003160\n",
       "Name: val_loss, Length: 62, dtype: float64"
      ]
     },
     "execution_count": 4,
     "metadata": {},
     "output_type": "execute_result"
    }
   ],
   "source": [
    "ex.get_numeric_channels_values('val_loss')['val_loss']"
   ]
  },
  {
   "cell_type": "code",
   "execution_count": 28,
   "metadata": {},
   "outputs": [
    {
     "name": "stdout",
     "output_type": "stream",
     "text": [
      "Archive:  source.zip\n",
      "   creating: source/\n",
      "  inflating: source/resnet_extent_3layer.py  \n",
      "https://ui.neptune.ai/lassegoransson/xrayPredictor-custom/e/XRAYC-40\n",
      "rm: cannot remove 'output/': No such file or directory\n",
      "Archive:  output.zip\n",
      "   creating: output/\n",
      "  inflating: output/model_resnet_extent_3layer.py_checkpoint-515x320-020-0.0031604054395460.hdf5  \n",
      "output/model_resnet_extent_3layer.py_checkpoint-515x320-020-0.0031604054395460.hdf5\n"
     ]
    }
   ],
   "source": [
    "ex.download_sources()\n",
    "!rm source/ -r\n",
    "!unzip source.zip\n",
    "file = !find source/ -type f\n",
    "file = file[0]\n",
    "nameonly = file.split('/')[-1]\n",
    "!mv $file $nameonly\n",
    "\n",
    "with project_custom.create_experiment(name=ex.name, params=ex.get_parameters(),upload_source_files=[nameonly]) as nex:\n",
    "    log = \"val_loss\"\n",
    "    for val in ex.get_numeric_channels_values(log)[log]:\n",
    "        nex.log_metric(log,val)\n",
    "    log = \"loss\"\n",
    "    for val in ex.get_numeric_channels_values(log)[log]:\n",
    "        nex.log_metric(log,val)\n",
    "    log = \"learning_rate\"\n",
    "    for val in ex.get_numeric_channels_values(log)[log]:\n",
    "        nex.log_metric(log,val)\n",
    "    \n",
    "    !rm output/ -r\n",
    "    ex.download_artifacts()\n",
    "    !unzip output.zip\n",
    "    file = !find output/ -name \"model*\"\n",
    "    file = file[0]\n",
    "    print(file)\n",
    "    nex.send_artifact(file)\n",
    "    \n",
    " "
   ]
  },
  {
   "cell_type": "code",
   "execution_count": 8,
   "metadata": {},
   "outputs": [],
   "source": [
    "def copyex(ex):\n",
    "    ex.download_sources()\n",
    "    !rm source/ -r\n",
    "    !unzip source.zip\n",
    "    file = !find source/ -type f\n",
    "    file = file[0]\n",
    "    nameonly = file.split('/')[-1]\n",
    "    !mv $file $nameonly\n",
    "\n",
    "    with project_custom.create_experiment(name=ex.name, params=ex.get_parameters(),upload_source_files=[nameonly]) as nex:\n",
    "        log = \"val_loss\"\n",
    "        for val in ex.get_numeric_channels_values(log)[log]:\n",
    "            nex.log_metric(log,val)\n",
    "        log = \"loss\"\n",
    "        for val in ex.get_numeric_channels_values(log)[log]:\n",
    "            nex.log_metric(log,val)\n",
    "        log = \"learning_rate\"\n",
    "        for val in ex.get_numeric_channels_values(log)[log]:\n",
    "            nex.log_metric(log,val)\n",
    "    \n",
    "        !rm output/ -r\n",
    "        ex.download_artifacts()\n",
    "        !unzip output.zip\n",
    "        file = !find output/ -name \"model*\"\n",
    "        file = file[0]\n",
    "        nex.send_artifact(file)\n",
    "        "
   ]
  },
  {
   "cell_type": "code",
   "execution_count": 9,
   "metadata": {},
   "outputs": [
    {
     "name": "stdout",
     "output_type": "stream",
     "text": [
      "Archive:  source.zip\n",
      "   creating: source/\n",
      "  inflating: source/resnet_extent_1layer_proj_l2reg.py  \n",
      "https://ui.neptune.ai/lassegoransson/xrayPredictor/e/XRAY-250\n",
      "Archive:  output.zip\n",
      "   creating: output/\n",
      "  inflating: output/model_resnet_extent_1layer_proj_l2reg.py_checkpoint-515x320-031-0.0029251155351856.hdf5  \n",
      "Archive:  source.zip\n",
      "   creating: source/\n",
      "  inflating: source/resnet_extent_2layer_proj_l2reg.py  \n",
      "https://ui.neptune.ai/lassegoransson/xrayPredictor/e/XRAY-251\n",
      "Archive:  output.zip\n",
      "   creating: output/\n",
      "  inflating: output/model_resnet_extent_2layer_proj_l2reg.py_checkpoint-515x320-029-0.0035287580316849.hdf5  \n",
      "Archive:  source.zip\n",
      "   creating: source/\n",
      "  inflating: source/resnet_extent_3layer_proj_l2reg.py  \n",
      "https://ui.neptune.ai/lassegoransson/xrayPredictor/e/XRAY-252\n",
      "Archive:  output.zip\n",
      "   creating: output/\n",
      "  inflating: output/model_resnet_extent_3layer_proj_l2reg.py_checkpoint-515x320-023-0.0029682897332143.hdf5  \n",
      "Archive:  source.zip\n",
      "   creating: source/\n",
      "  inflating: source/resnet_extent_4layer_proj_l2reg.py  \n",
      "https://ui.neptune.ai/lassegoransson/xrayPredictor/e/XRAY-253\n",
      "Archive:  output.zip\n",
      "   creating: output/\n",
      "  inflating: output/model_resnet_extent_4layer_proj_l2reg.py_checkpoint-515x320-024-0.0039067281327109.hdf5  \n"
     ]
    }
   ],
   "source": [
    "for ex in exp_rerun:\n",
    "    copyex(ex)"
   ]
  },
  {
   "cell_type": "code",
   "execution_count": null,
   "metadata": {},
   "outputs": [],
   "source": []
  }
 ],
 "metadata": {
  "kernelspec": {
   "display_name": "Python 3",
   "language": "python",
   "name": "python3"
  },
  "language_info": {
   "codemirror_mode": {
    "name": "ipython",
    "version": 3
   },
   "file_extension": ".py",
   "mimetype": "text/x-python",
   "name": "python",
   "nbconvert_exporter": "python",
   "pygments_lexer": "ipython3",
   "version": "3.6.10"
  }
 },
 "nbformat": 4,
 "nbformat_minor": 4
}
