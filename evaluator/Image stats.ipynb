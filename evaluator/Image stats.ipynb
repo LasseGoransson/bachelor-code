{
 "cells": [
  {
   "cell_type": "code",
   "execution_count": 1,
   "metadata": {},
   "outputs": [],
   "source": [
    "from __future__ import absolute_import, division, print_function, unicode_literals\n",
    "import tensorflow as tf\n",
    "import tensorflow.keras as keras\n",
    "from tensorflow.keras.models import Sequential\n",
    "from tensorflow.keras.layers import Dense, Conv2D, Flatten, Dropout, MaxPooling2D,GlobalAveragePooling2D, Concatenate, Reshape,GlobalMaxPooling2D, Activation, Input\n",
    "from tensorflow.keras.preprocessing.image import ImageDataGenerator\n",
    "\n",
    "import IPython.display as display\n",
    "from PIL import Image\n",
    "import numpy as np\n",
    "import pandas\n",
    "import matplotlib.pyplot as plt\n",
    "import os\n",
    "import pathlib\n",
    "import datetime\n",
    "import math\n",
    "import sys\n",
    "import neptune\n",
    "from scipy import stats\n",
    "import scipy\n",
    "\n",
    "def plotFromCsv(file):\n",
    "\n",
    "    data = np.genfromtxt(file, delimiter=',', skip_header=1, names=['epoch','loss','mse','val_loss','val_mse'])\n",
    "    plt.figure(figsize=(20,10))\n",
    "    plt.plot(data['epoch'],data['val_loss'])\n",
    "    plt.plot(data['epoch'],data['loss'])\n",
    "    plt.title('Model accuracy (' +str(file)+\")\")\n",
    "    plt.ylabel('Loss (MSE) (KG)')\n",
    "    plt.xlabel('Epoch')\n",
    "    plt.legend(['Validation Loss','Loss'], loc='upper right')\n",
    "    plt.ylim(0,0.8)\n",
    "    plt.show()"
   ]
  },
  {
   "cell_type": "code",
   "execution_count": 2,
   "metadata": {},
   "outputs": [],
   "source": [
    "files = !find ~/bachelor-data/data/ -name \"*.png\"\n"
   ]
  },
  {
   "cell_type": "code",
   "execution_count": 75,
   "metadata": {},
   "outputs": [],
   "source": [
    "heights = []\n",
    "for file in files:\n",
    "    image = Image.open(file)\n",
    "    width,height = image.size\n",
    "    heights.append(height)"
   ]
  },
  {
   "cell_type": "code",
   "execution_count": 76,
   "metadata": {},
   "outputs": [
    {
     "data": {
      "image/png": "[encoded data removed]",
      "text/plain": [
       "<Figure size 432x288 with 1 Axes>"
      ]
     },
     "metadata": {
      "needs_background": "light"
     },
     "output_type": "display_data"
    }
   ],
   "source": [
    "%matplotlib inline\n",
    "\n",
    "\n",
    "heights = [height/1280 for height in heights ]\n",
    "\n",
    "std = np.std(heights)\n",
    "mean = np.mean(heights)\n",
    "\n",
    "plt.figure()\n",
    "\n",
    "x = np.linspace(-3+mean,3+mean, 1000)\n",
    "\n",
    "h=     plt.plot(x, stats.norm.pdf(x, mean+1, std))\n",
    "hist = plt.hist(heights)\n",
    "fig.show()\n"
   ]
  }
 ],
 "metadata": {
  "kernelspec": {
   "display_name": "Python 3",
   "language": "python",
   "name": "python3"
  },
  "language_info": {
   "codemirror_mode": {
    "name": "ipython",
    "version": 3
   },
   "file_extension": ".py",
   "mimetype": "text/x-python",
   "name": "python",
   "nbconvert_exporter": "python",
   "pygments_lexer": "ipython3",
   "version": "3.6.10"
  }
 },
 "nbformat": 4,
 "nbformat_minor": 4
}
