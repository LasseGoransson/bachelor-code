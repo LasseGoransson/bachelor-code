{
 "cells": [
  {
   "cell_type": "code",
   "execution_count": 20,
   "metadata": {},
   "outputs": [
    {
     "name": "stderr",
     "output_type": "stream",
     "text": [
      "WARNING: It is not secure to place API token in your source code. You should treat it as a password to your account. It is strongly recommended to use NEPTUNE_API_TOKEN environment variable instead. Remember not to upload source file with API token to any public repository.\n"
     ]
    },
    {
     "data": {
      "text/plain": [
       "[Experiment(XRAYR-15),\n",
       " Experiment(XRAYR-16),\n",
       " Experiment(XRAYR-17),\n",
       " Experiment(XRAYR-18),\n",
       " Experiment(XRAYR-19),\n",
       " Experiment(XRAYR-20),\n",
       " Experiment(XRAYR-21),\n",
       " Experiment(XRAYR-22),\n",
       " Experiment(XRAYR-23),\n",
       " Experiment(XRAYR-24),\n",
       " Experiment(XRAYR-25),\n",
       " Experiment(XRAYR-26),\n",
       " Experiment(XRAYR-27),\n",
       " Experiment(XRAYR-28),\n",
       " Experiment(XRAYR-29),\n",
       " Experiment(XRAYR-30),\n",
       " Experiment(XRAYR-31)]"
      ]
     },
     "execution_count": 20,
     "metadata": {},
     "output_type": "execute_result"
    }
   ],
   "source": [
    "import neptune\n",
    "import os\n",
    "key = \"eyJhcGlfYWRkcmVzcyI6Imh0dHBzOi8vdWkubmVwdHVuZS5haSIsImFwaV91cmwiOiJodHRwczovL3VpLm5lcHR1bmUuYWkiLCJhcGlfa2V5IjoiOWUxN2YwMTUtNjM1Ny00NmVlLWIzOTctNzAwYTllMGNmMTg2In0=\"\n",
    "project = neptune.init('lassegoransson/xrayPredictor-rerun',api_token=key)\n",
    "exp = project.get_experiments()\n",
    "exp"
   ]
  },
  {
   "cell_type": "code",
   "execution_count": 2,
   "metadata": {},
   "outputs": [
    {
     "name": "stdout",
     "output_type": "stream",
     "text": [
      "/home/lasg/bachelor-data/models\n"
     ]
    }
   ],
   "source": [
    "%cd ~/bachelor-data/models"
   ]
  },
  {
   "cell_type": "code",
   "execution_count": 3,
   "metadata": {},
   "outputs": [
    {
     "data": {
      "text/plain": [
       "'XRAY-44'"
      ]
     },
     "execution_count": 3,
     "metadata": {},
     "output_type": "execute_result"
    }
   ],
   "source": [
    "exp[0].id"
   ]
  },
  {
   "cell_type": "code",
   "execution_count": 21,
   "metadata": {
    "scrolled": true
   },
   "outputs": [
    {
     "name": "stdout",
     "output_type": "stream",
     "text": [
      "/home/lasg/bachelor-data/models\n",
      "Archive:  output.zip\n",
      "   creating: output/\n",
      "  inflating: output/model_resnet_extent_3layer.py_checkpoint-515x320-020-0.0031604054395460.hdf5  \n",
      "/home/lasg/bachelor-data/models\n",
      "Archive:  output.zip\n",
      "   creating: output/\n",
      "  inflating: output/model_resnet_extent_1layer.py_checkpoint-515x320-019-0.0021257365621237.hdf5  \n",
      "/home/lasg/bachelor-data/models\n",
      "Archive:  output.zip\n",
      "   creating: output/\n",
      "  inflating: output/model_resnet_extent_2layer_dropout25.py_checkpoint-515x320-004-0.0071917483260357.hdf5  \n",
      "/home/lasg/bachelor-data/models\n",
      "Archive:  output.zip\n",
      "   creating: output/\n",
      "  inflating: output/model_resnet_extent_4layer_dropout25.py_checkpoint-515x320-010-0.0075580794554397.hdf5  \n",
      "/home/lasg/bachelor-data/models\n",
      "Archive:  output.zip\n",
      "   creating: output/\n",
      "  inflating: output/model_resnet_extent_3layer_dropout25.py_checkpoint-515x320-012-0.0134969528045247.hdf5  \n",
      "/home/lasg/bachelor-data/models\n",
      "Archive:  output.zip\n",
      "   creating: output/\n",
      "  inflating: output/model_resnet_extent_2layer_dropout50.py_checkpoint-515x320-009-0.0126399307783767.hdf5  \n",
      "/home/lasg/bachelor-data/models\n",
      "Archive:  output.zip\n",
      "   creating: output/\n",
      "  inflating: output/model_resnet_extent_3layer_dropout50.py_checkpoint-515x320-011-0.0110097744485990.hdf5  \n",
      "/home/lasg/bachelor-data/models\n",
      "Archive:  output.zip\n",
      "   creating: output/\n",
      "  inflating: output/model_resnet_extent_4layer_dropout50.py_checkpoint-515x320-006-0.0274177904581965.hdf5  \n",
      "/home/lasg/bachelor-data/models\n",
      "Archive:  output.zip\n",
      "   creating: output/\n",
      "  inflating: output/model_resnet_extent_1layer_dropout50.py_checkpoint-515x320-005-0.0035168833524625.hdf5  \n",
      "/home/lasg/bachelor-data/models\n",
      "Archive:  output.zip\n",
      "   creating: output/\n",
      "  inflating: output/model_resnet_extent_4layer.py_checkpoint-515x320-016-0.0026174818838734.hdf5  \n",
      "/home/lasg/bachelor-data/models\n",
      "Archive:  output.zip\n",
      "   creating: output/\n",
      "  inflating: output/model_resnet_extent_2layer.py_checkpoint-515x320-023-0.0027636535307807.hdf5  \n",
      "/home/lasg/bachelor-data/models\n",
      "Archive:  output.zip\n",
      "   creating: output/\n",
      "  inflating: output/model_resnet_extent_1layer_proj.py_checkpoint-515x320-019-0.0018714326533251.hdf5  \n",
      "/home/lasg/bachelor-data/models\n",
      "Archive:  output.zip\n",
      "   creating: output/\n",
      "  inflating: output/model_resnet_extent_2layer_proj.py_checkpoint-515x320-019-0.0019378544439131.hdf5  \n",
      "/home/lasg/bachelor-data/models\n",
      "Archive:  output.zip\n",
      "   creating: output/\n",
      "  inflating: output/model_resnet_extent_1layer_proj.py_checkpoint-515x320-038-0.0038129680745055.hdf5  \n",
      "/home/lasg/bachelor-data/models\n",
      "Archive:  output.zip\n",
      "   creating: output/\n",
      "  inflating: output/model_resnet_extent_3layer_proj.py_checkpoint-515x320-019-0.0022562199161563.hdf5  \n",
      "/home/lasg/bachelor-data/models\n",
      "Archive:  output.zip\n",
      "   creating: output/\n",
      "  inflating: output/model_resnet_extent_4layer_proj.py_checkpoint-515x320-012-0.0029332038700364.hdf5  \n",
      "/home/lasg/bachelor-data/models\n",
      "Archive:  output.zip\n",
      "   creating: output/\n",
      "  inflating: output/model_resnet_extent_1layer_proj_l2reg2.py_checkpoint-515x320-025-0.0063220777221504.hdf5  \n"
     ]
    }
   ],
   "source": [
    "for ex in exp:\n",
    "    %cd ~/bachelor-data/models\n",
    "    !rm output/ -r\n",
    "    !rm output.zip\n",
    "    ex.download_artifacts()\n",
    "    !unzip output.zip\n",
    "    file = !find . -name \"model*\"\n",
    "    file = file[0]\n",
    "    filename = ex.id+\".hdf5\"\n",
    "    !mv $file $filename\n",
    "    \n"
   ]
  },
  {
   "cell_type": "code",
   "execution_count": 17,
   "metadata": {},
   "outputs": [
    {
     "name": "stdout",
     "output_type": "stream",
     "text": [
      "/home/lasg/bachelor-data/models\n",
      "/home/lasg/bachelor-data/models\n",
      "rm: cannot remove 'output/': No such file or directory\n",
      "rm: cannot remove 'output.zip': No such file or directory\n",
      "Archive:  output.zip\n",
      "   creating: output/\n",
      "  inflating: output/model_resnet_baseline_checkpoint-224x224-027-0.00720.hdf5  \n"
     ]
    }
   ],
   "source": [
    "%cd ~/bachelor-data/models\n",
    "ex = exp[0]\n",
    "%cd ~/bachelor-data/models\n",
    "!rm output/ -r\n",
    "!rm output.zip\n",
    "ex.download_artifacts()\n",
    "!unzip output.zip\n",
    "file = !find . -name \"model*\"\n",
    "file = file[0]\n",
    "filename = ex.id+\".hdf5\"\n",
    "!mv $file $filename"
   ]
  },
  {
   "cell_type": "code",
   "execution_count": 3,
   "metadata": {},
   "outputs": [
    {
     "name": "stdout",
     "output_type": "stream",
     "text": [
      "Archive:  output.zip\n",
      "  inflating: output/model_resnet_baseline_4layerMLP_proj_l2reg.py_checkpoint-448x448-043-0.0107776584426084.hdf5  \n"
     ]
    }
   ],
   "source": [
    "ex = project.get_experiments(\"XRAY448-5\")[0]\n",
    "ex.download_artifacts()\n",
    "!unzip output.zip"
   ]
  },
  {
   "cell_type": "code",
   "execution_count": 8,
   "metadata": {},
   "outputs": [
    {
     "data": {
      "text/plain": [
       "'model_resnet_baseline_checkpoint-224x224-027-0.00720.hdf5'"
      ]
     },
     "execution_count": 8,
     "metadata": {},
     "output_type": "execute_result"
    }
   ],
   "source": [
    "file[0].split(\"/\")[-1]"
   ]
  }
 ],
 "metadata": {
  "kernelspec": {
   "display_name": "Python 3",
   "language": "python",
   "name": "python3"
  },
  "language_info": {
   "codemirror_mode": {
    "name": "ipython",
    "version": 3
   },
   "file_extension": ".py",
   "mimetype": "text/x-python",
   "name": "python",
   "nbconvert_exporter": "python",
   "pygments_lexer": "ipython3",
   "version": "3.6.10"
  }
 },
 "nbformat": 4,
 "nbformat_minor": 4
}
