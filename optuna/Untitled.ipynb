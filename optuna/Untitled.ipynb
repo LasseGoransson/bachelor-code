{
 "cells": [
  {
   "cell_type": "code",
   "execution_count": 2,
   "metadata": {},
   "outputs": [],
   "source": [
    "from __future__ import absolute_import, division, print_function, unicode_literals\n",
    "import neptune\n",
    "import tensorflow as tf\n",
    "import tensorflow.keras as keras\n",
    "from tensorflow.keras.callbacks import Callback\n",
    "from tensorflow.keras.models import Sequential\n",
    "from tensorflow.keras import regularizers\n",
    "from tensorflow.keras.layers import Dense, Conv2D, Flatten, Dropout, MaxPooling2D,GlobalAveragePooling2D, Concatenate, Reshape,GlobalMaxPooling2D, Activation, Input\n",
    "from tensorflow.keras.preprocessing.image import ImageDataGenerator\n",
    "from classification_models.tfkeras import Classifiers\n",
    "from PIL import Image\n",
    "import numpy as np\n",
    "import pandas\n",
    "import os\n",
    "import pathlib\n",
    "import datetime\n",
    "import math\n",
    "import sys\n",
    "import optuna\n",
    "\n"
   ]
  },
  {
   "cell_type": "code",
   "execution_count": 5,
   "metadata": {},
   "outputs": [
    {
     "name": "stderr",
     "output_type": "stream",
     "text": [
      "\u001b[32m[I 2020-03-20 08:57:30,966]\u001b[0m Using an existing study with name 'no-name-b5479367-147d-4ef4-a6fb-f3fe65b4227c' instead of creating a new one.\u001b[0m\n"
     ]
    },
    {
     "name": "stdout",
     "output_type": "stream",
     "text": [
      "    number     value  params_dropout_rate  params_num_neurons_1  \\\n",
      "0        0  0.006447             0.057029                   150   \n",
      "1        1  0.006862             0.022652                   509   \n",
      "2        2  0.032510             0.303964                   380   \n",
      "3        3  0.006302             0.005003                   417   \n",
      "4        4  0.011209             0.155290                   217   \n",
      "5        5  0.044882             0.456027                    20   \n",
      "6        6  0.062114             0.471921                   199   \n",
      "7        7  0.006542             0.081813                   477   \n",
      "8        8  0.024212             0.210179                   366   \n",
      "9        9  0.007124             0.064218                    79   \n",
      "10      10  0.008608             0.312695                   343   \n",
      "11      11  0.005553             0.017398                   134   \n",
      "12      12  0.007368             0.011727                   111   \n",
      "13      13  0.010185             0.147974                   261   \n",
      "14      14  0.013270             0.128256                   306   \n",
      "15      15  0.006694             0.009128                   421   \n",
      "16      16  0.029425             0.364595                     9   \n",
      "17      17  0.018227             0.216255                   153   \n",
      "18      18  0.009249             0.105064                   435   \n",
      "19      19  0.005811             0.002197                   280   \n",
      "20      20  0.008312             0.185811                   281   \n",
      "21      21  0.007989             0.008695                   216   \n",
      "22      22  0.008036             0.052499                   325   \n",
      "23      23  0.007134             0.004639                    61   \n",
      "24      24  0.007094             0.100251                   413   \n",
      "25      25  0.006381             0.045670                   182   \n",
      "26      26  0.009927             0.105601                   241   \n",
      "27      27  0.007650             0.002165                   457   \n",
      "28      28  0.006986             0.035100                   291   \n",
      "29      29  0.007171             0.067468                   135   \n",
      "30      30  0.029536             0.400986                   168   \n",
      "31      31  0.006057             0.042128                   180   \n",
      "32      32  0.006867             0.038302                    66   \n",
      "33      33  0.008558             0.001657                   130   \n",
      "34      34  0.006663             0.037283                   106   \n",
      "35      35  0.010887             0.079468                   505   \n",
      "36      36  0.024791             0.278274                   236   \n",
      "37      37  0.013158             0.137350                   201   \n",
      "38      38  0.009372             0.085937                   380   \n",
      "39      39  0.022666             0.181095                   175   \n",
      "40      40  0.006192             0.027299                    93   \n",
      "41      41  0.005606             0.027386                    53   \n",
      "42      42  0.006782             0.027183                    37   \n",
      "43      43  0.007323             0.059038                    36   \n",
      "44      44  0.005549             0.022154                    95   \n",
      "45      45  0.011731             0.122811                   121   \n",
      "46      46  0.006500             0.068801                   148   \n",
      "47      47  0.005398             0.002785                    79   \n",
      "48      48  0.007706             0.000054                    44   \n",
      "49      49       NaN             0.022170                    83   \n",
      "\n",
      "    params_num_neurons_2 params_projection     state  \n",
      "0                    234                no  COMPLETE  \n",
      "1                    301                no  COMPLETE  \n",
      "2                    225                no  COMPLETE  \n",
      "3                     74               yes  COMPLETE  \n",
      "4                    459               yes  COMPLETE  \n",
      "5                    163               yes  COMPLETE  \n",
      "6                    332                no  COMPLETE  \n",
      "7                     28                no  COMPLETE  \n",
      "8                    433                no  COMPLETE  \n",
      "9                    293               yes  COMPLETE  \n",
      "10                    11               yes  COMPLETE  \n",
      "11                   100               yes  COMPLETE  \n",
      "12                    81               yes  COMPLETE  \n",
      "13                   119               yes  COMPLETE  \n",
      "14                    79               yes  COMPLETE  \n",
      "15                   171               yes  COMPLETE  \n",
      "16                    13               yes  COMPLETE  \n",
      "17                    81               yes  COMPLETE  \n",
      "18                   172               yes  COMPLETE  \n",
      "19                   130               yes  COMPLETE  \n",
      "20                   134               yes  COMPLETE  \n",
      "21                    62               yes  COMPLETE  \n",
      "22                   122               yes  COMPLETE  \n",
      "23                   193               yes  COMPLETE  \n",
      "24                    46               yes  COMPLETE  \n",
      "25                   114               yes  COMPLETE  \n",
      "26                     7               yes  COMPLETE  \n",
      "27                   209               yes  COMPLETE  \n",
      "28                   142               yes  COMPLETE  \n",
      "29                   249               yes  COMPLETE  \n",
      "30                   102               yes  COMPLETE  \n",
      "31                    50               yes  COMPLETE  \n",
      "32                    47               yes  COMPLETE  \n",
      "33                    44               yes  COMPLETE  \n",
      "34                    89                no  COMPLETE  \n",
      "35                     6               yes  COMPLETE  \n",
      "36                   148               yes  COMPLETE  \n",
      "37                   222                no  COMPLETE  \n",
      "38                   384               yes  COMPLETE  \n",
      "39                   273               yes  COMPLETE  \n",
      "40                    61                no  COMPLETE  \n",
      "41                    69                no  COMPLETE  \n",
      "42                    32                no  COMPLETE  \n",
      "43                    68                no  COMPLETE  \n",
      "44                   101                no  COMPLETE  \n",
      "45                   101                no  COMPLETE  \n",
      "46                   186                no  COMPLETE  \n",
      "47                   157                no  COMPLETE  \n",
      "48                   156                no  COMPLETE  \n",
      "49                   131                no      FAIL  \n"
     ]
    }
   ],
   "source": [
    "study = optuna.create_study(study_name='no-name-b5479367-147d-4ef4-a6fb-f3fe65b4227c', storage='sqlite:///optunaDB.db', load_if_exists=True)\n",
    "df = study.trials_dataframe(attrs=('number', 'value', 'params', 'state'))\n",
    "\n",
    "print(df)"
   ]
  },
  {
   "cell_type": "code",
   "execution_count": 8,
   "metadata": {},
   "outputs": [
    {
     "data": {
      "text/plain": [
       "0.0053975824266672134"
      ]
     },
     "execution_count": 8,
     "metadata": {},
     "output_type": "execute_result"
    }
   ],
   "source": [
    "study.best_value"
   ]
  }
 ],
 "metadata": {
  "kernelspec": {
   "display_name": "Python 3",
   "language": "python",
   "name": "python3"
  },
  "language_info": {
   "codemirror_mode": {
    "name": "ipython",
    "version": 3
   },
   "file_extension": ".py",
   "mimetype": "text/x-python",
   "name": "python",
   "nbconvert_exporter": "python",
   "pygments_lexer": "ipython3",
   "version": "3.6.10"
  }
 },
 "nbformat": 4,
 "nbformat_minor": 4
}
